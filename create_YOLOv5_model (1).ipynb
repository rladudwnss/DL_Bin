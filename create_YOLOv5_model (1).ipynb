{
  "cells": [
    {
      "cell_type": "markdown",
      "source": [
        "# **직접 만든 데이터셋을 ROBOFLOW 사이트에서 데이터증강을 한 뒤 직접 가져온다.**"
      ],
      "metadata": {
        "id": "7jT3FfEP0ynS"
      }
    },
    {
      "cell_type": "code",
      "execution_count": null,
      "metadata": {
        "id": "dZWJ0Qeu5X6R"
      },
      "outputs": [],
      "source": [
        "#!curl -L \"https://app.roboflow.com/ds/j4jjDSue53?key=23wrRhVWZZ\" > roboflow.zip; unzip roboflow.zip; rm roboflow.zip\n",
        "#!curl -L \"https://app.roboflow.com/ds/NSdac8MSWf?key=hYM1anc8ot\" > roboflow.zip; unzip roboflow.zip; rm roboflow.zip #Don't Augumentation\n",
        "#!curl -L \"https://app.roboflow.com/ds/6c4mTJFDXr?key=dtemrPWa5W\" > roboflow.zip; unzip roboflow.zip; rm roboflow.zip #암실에서 촬영한 데이터\n",
        "!curl -L \"https://app.roboflow.com/ds/KpJyexja6z?key=r1oBbQYfFU\" > roboflow.zip; unzip roboflow.zip; rm roboflow.zip  #직접 촬영한 데이터 + 시중에 있는 데이터\n",
        "#!curl -L \"https://app.roboflow.com/ds/U3lQ3Ok7zT?key=zncU4Nx2RI\" > roboflow.zip; unzip roboflow.zip; rm roboflow.zip\n",
        "  \n"
      ]
    },
    {
      "cell_type": "markdown",
      "metadata": {
        "id": "tzai_WSQkPYq"
      },
      "source": [
        "# 3494장의 커스텀 데이터셋\n",
        "\n",
        "# 총15533장 : 커스텀 데이터셋 + 시중에 존재하는 데이터셋"
      ]
    },
    {
      "cell_type": "markdown",
      "source": [
        "# **YOLOv5 설치**"
      ],
      "metadata": {
        "id": "dGIEcNDF0hOH"
      }
    },
    {
      "cell_type": "code",
      "execution_count": null,
      "metadata": {
        "id": "8p1603VijJ_x"
      },
      "outputs": [],
      "source": [
        "%cd /content\n",
        "!git clone https://github.com/ultralytics/yolov5.git"
      ]
    },
    {
      "cell_type": "code",
      "execution_count": null,
      "metadata": {
        "id": "WnS0XLAcj1aO"
      },
      "outputs": [],
      "source": [
        "%cd /content/yolov5/\n",
        "!pip install -r requirements.txt\n",
        "#YOLOv5설치"
      ]
    },
    {
      "cell_type": "markdown",
      "source": [
        "# **진행 순서.**\n",
        "\n",
        "1.   \"dataset\" 명의 폴더 생성\n",
        "2.   data.yaml을 불러와서 쓰레기들의 클래스를 확인\n",
        "\n"
      ],
      "metadata": {
        "id": "E2tKwwUv1VuT"
      }
    },
    {
      "cell_type": "code",
      "execution_count": null,
      "metadata": {
        "id": "Wmum2kbAj-h3"
      },
      "outputs": [],
      "source": [
        "%cat /content/dataset/data.yaml\n",
        "#무엇을 포함하는지, 경로확인\n",
        "#%cat /content/data.yaml"
      ]
    },
    {
      "cell_type": "code",
      "execution_count": null,
      "metadata": {
        "id": "59bxmTd0krk4"
      },
      "outputs": [],
      "source": [
        "%cd /\n",
        "from glob import glob\n",
        "\n",
        "#img_list = glob('/content/dataset/train/images/*.jpg')\n",
        "train_list = glob('/content/dataset/train/images/*.jpg')\n",
        "\n",
        "#test_list = glob('/content/dataset/test/images/*.jpg')\n",
        "val_list =glob('/content/dataset/valid/images/*.jpg') + glob('/content/dataset/test/images/*.jpg')\n",
        "\n",
        "print(len(train_list))  #트레인 세트 갯수확인\n",
        "print(len(val_list))    #val 데이터 갯수 확인\n",
        "\n",
        "total_list = train_list + val_list #총 데이터 갯수 확인을 위한 덧셈\n",
        "print(len(total_list))"
      ]
    },
    {
      "cell_type": "code",
      "execution_count": null,
      "metadata": {
        "id": "cJbipgDylAHY"
      },
      "outputs": [],
      "source": [
        "#총 합친 데이터를 train, val을 7 : 3으로 나누어준다.\n",
        "from sklearn.model_selection import train_test_split \n",
        "\n",
        "train_img_list, val_img_list = train_test_split(total_list, test_size=0.3, random_state=2000)\n",
        "\n",
        "print(len(train_img_list), len(val_img_list))"
      ]
    },
    {
      "cell_type": "code",
      "execution_count": null,
      "metadata": {
        "id": "YewU3sWClTyh"
      },
      "outputs": [],
      "source": [
        "with open('/content/dataset/train.txt', 'w') as f:\n",
        "  f.write('\\n'.join(train_img_list) + '\\n')\n",
        "\n",
        "with open('/content/dataset/val.txt', 'w') as f:\n",
        "  f.write('\\n'.join(val_img_list) + '\\n')"
      ]
    },
    {
      "cell_type": "code",
      "execution_count": null,
      "metadata": {
        "id": "w8JhXyYBlrrW"
      },
      "outputs": [],
      "source": [
        "import yaml\n",
        "\n",
        "with open('/content/dataset/data.yaml', 'r') as f:\n",
        "   data = yaml.safe_load(f)\n",
        "\n",
        "print(data)\n",
        "\n",
        "data['train'] = '/content/dataset/train.txt'\n",
        "data['val'] = '/content/dataset/val.txt'\n",
        "\n",
        "with open('/content/dataset/data.yaml', 'w') as f:\n",
        "  yaml.dump(data, f)\n",
        "\n",
        "print(data)"
      ]
    },
    {
      "cell_type": "code",
      "execution_count": null,
      "metadata": {
        "id": "Das7YGgqmSUL"
      },
      "outputs": [],
      "source": [
        "%cd /content/yolov5/\n",
        "\n",
        "#1번째 batch 16 , epochs 100\n",
        "#!python train.py --img 416 --batch 16 --epochs 100 --data /content/dataset/data.yaml --cfg ./models/yolov5m.yaml --weights yolov5m.pt --name 2022_03_27\n",
        "# 2번째 batch8 epochs 50/ \n",
        "#!python train.py --img 416 --batch 8 --epochs 50 --data /content/dataset/data.yaml --cfg ./models/yolov5m.yaml --weights yolov5m.pt --name 2022_04_06 \n",
        "# 3번째 batch8 epochs 100/ \n",
        "#!python train.py --img 416 --batch 8 --epochs 100 --data /content/dataset/data.yaml --cfg ./models/yolov5m.yaml --weights yolov5m.pt --name 2022_04_06 \n",
        "# 4번째 batch16 epochs 50/ \n",
        "\n",
        "#epoch 50 batch 16 yolov5x\n",
        "#!python train.py --img 416 --batch 16 --epochs 50 --data /content/dataset/data.yaml --cfg ./models/yolov5m.yaml --weights yolov5x.pt --name 2022_05_16_2\n",
        "#epoch 100 batch 16 yolov5x\n",
        "#!python train.py --img 416 --batch 16 --epochs 100 --data /content/dataset/data.yaml --cfg ./models/yolov5m.yaml --weights yolov5x.pt --name 2022_05_16_2\n",
        "#epoch 50 batch 16 yolov5l\n",
        "!python train.py --img 416 --batch 16 --epochs 50 --data /content/dataset/data.yaml --cfg ./models/yolov5m.yaml --weights yolov5l.pt --name modelL_50"
      ]
    },
    {
      "cell_type": "code",
      "source": [
        "##epoch50_batch16_modelL\n",
        "%load_ext tensorboard\n",
        "%tensorboard --logdir /content/yolov5/runs/train/modelL_50"
      ],
      "metadata": {
        "id": "TIDPVSZeEiAq"
      },
      "execution_count": null,
      "outputs": []
    },
    {
      "cell_type": "code",
      "source": [
        "#epoch100_batch16_modelX\n",
        "%load_ext tensorboard\n",
        "%tensorboard --logdir /content/yolov5/runs/train/2022_05_16_2"
      ],
      "metadata": {
        "id": "gBgQQM68lJzZ"
      },
      "execution_count": null,
      "outputs": []
    },
    {
      "cell_type": "code",
      "execution_count": null,
      "metadata": {
        "id": "gzmVebSwCkDR"
      },
      "outputs": [],
      "source": [
        "#epoch50_batch16_modelX\n",
        "%load_ext tensorboard\n",
        "%tensorboard --logdir /content/yolov5/runs/train/2022_05_16_2"
      ]
    },
    {
      "cell_type": "code",
      "execution_count": null,
      "metadata": {
        "id": "uV84gsc_5DGf"
      },
      "outputs": [],
      "source": [
        "from google.colab import files"
      ]
    },
    {
      "cell_type": "markdown",
      "source": [
        "**학습 완료된 가중치 파일을 다운로드 하는 코드**"
      ],
      "metadata": {
        "id": "7MdHv7UoLR6m"
      }
    },
    {
      "cell_type": "code",
      "execution_count": null,
      "metadata": {
        "colab": {
          "base_uri": "https://localhost:8080/",
          "height": 34
        },
        "id": "GtjxU5JqvpZg",
        "outputId": "9f745a14-61d9-4c10-e040-d762c395ac9e"
      },
      "outputs": [
        {
          "data": {
            "application/javascript": [
              "\n",
              "    async function download(id, filename, size) {\n",
              "      if (!google.colab.kernel.accessAllowed) {\n",
              "        return;\n",
              "      }\n",
              "      const div = document.createElement('div');\n",
              "      const label = document.createElement('label');\n",
              "      label.textContent = `Downloading \"${filename}\": `;\n",
              "      div.appendChild(label);\n",
              "      const progress = document.createElement('progress');\n",
              "      progress.max = size;\n",
              "      div.appendChild(progress);\n",
              "      document.body.appendChild(div);\n",
              "\n",
              "      const buffers = [];\n",
              "      let downloaded = 0;\n",
              "\n",
              "      const channel = await google.colab.kernel.comms.open(id);\n",
              "      // Send a message to notify the kernel that we're ready.\n",
              "      channel.send({})\n",
              "\n",
              "      for await (const message of channel.messages) {\n",
              "        // Send a message to notify the kernel that we're ready.\n",
              "        channel.send({})\n",
              "        if (message.buffers) {\n",
              "          for (const buffer of message.buffers) {\n",
              "            buffers.push(buffer);\n",
              "            downloaded += buffer.byteLength;\n",
              "            progress.value = downloaded;\n",
              "          }\n",
              "        }\n",
              "      }\n",
              "      const blob = new Blob(buffers, {type: 'application/binary'});\n",
              "      const a = document.createElement('a');\n",
              "      a.href = window.URL.createObjectURL(blob);\n",
              "      a.download = filename;\n",
              "      div.appendChild(a);\n",
              "      a.click();\n",
              "      div.remove();\n",
              "    }\n",
              "  "
            ],
            "text/plain": [
              "<IPython.core.display.Javascript object>"
            ]
          },
          "metadata": {},
          "output_type": "display_data"
        },
        {
          "data": {
            "application/javascript": [
              "download(\"download_5d794f18-69fa-4b35-89b5-31834d1fc6d4\", \"best.pt\", 42206253)"
            ],
            "text/plain": [
              "<IPython.core.display.Javascript object>"
            ]
          },
          "metadata": {},
          "output_type": "display_data"
        }
      ],
      "source": [
        "files.download('/content/yolov5/runs/train/2022_05_16/weights/best.pt')"
      ]
    },
    {
      "cell_type": "code",
      "source": [
        "files.download('/content/yolov5/runs/train/modelL_50/weights/best.pt')"
      ],
      "metadata": {
        "colab": {
          "base_uri": "https://localhost:8080/",
          "height": 34
        },
        "id": "1PwhA6ThO_PH",
        "outputId": "a3f61643-691a-4f4e-cebd-8509746245b9"
      },
      "execution_count": null,
      "outputs": [
        {
          "output_type": "display_data",
          "data": {
            "text/plain": [
              "<IPython.core.display.Javascript object>"
            ],
            "application/javascript": [
              "\n",
              "    async function download(id, filename, size) {\n",
              "      if (!google.colab.kernel.accessAllowed) {\n",
              "        return;\n",
              "      }\n",
              "      const div = document.createElement('div');\n",
              "      const label = document.createElement('label');\n",
              "      label.textContent = `Downloading \"${filename}\": `;\n",
              "      div.appendChild(label);\n",
              "      const progress = document.createElement('progress');\n",
              "      progress.max = size;\n",
              "      div.appendChild(progress);\n",
              "      document.body.appendChild(div);\n",
              "\n",
              "      const buffers = [];\n",
              "      let downloaded = 0;\n",
              "\n",
              "      const channel = await google.colab.kernel.comms.open(id);\n",
              "      // Send a message to notify the kernel that we're ready.\n",
              "      channel.send({})\n",
              "\n",
              "      for await (const message of channel.messages) {\n",
              "        // Send a message to notify the kernel that we're ready.\n",
              "        channel.send({})\n",
              "        if (message.buffers) {\n",
              "          for (const buffer of message.buffers) {\n",
              "            buffers.push(buffer);\n",
              "            downloaded += buffer.byteLength;\n",
              "            progress.value = downloaded;\n",
              "          }\n",
              "        }\n",
              "      }\n",
              "      const blob = new Blob(buffers, {type: 'application/binary'});\n",
              "      const a = document.createElement('a');\n",
              "      a.href = window.URL.createObjectURL(blob);\n",
              "      a.download = filename;\n",
              "      div.appendChild(a);\n",
              "      a.click();\n",
              "      div.remove();\n",
              "    }\n",
              "  "
            ]
          },
          "metadata": {}
        },
        {
          "output_type": "display_data",
          "data": {
            "text/plain": [
              "<IPython.core.display.Javascript object>"
            ],
            "application/javascript": [
              "download(\"download_77e9f9f6-e5a3-4d5e-ba41-c99318d0f7c7\", \"best.pt\", 42206253)"
            ]
          },
          "metadata": {}
        }
      ]
    },
    {
      "cell_type": "code",
      "execution_count": null,
      "metadata": {
        "colab": {
          "base_uri": "https://localhost:8080/",
          "height": 17
        },
        "id": "mK0Sylp0Gxb0",
        "outputId": "5839d463-ae7b-4688-c5a1-1f0202c0e4d3"
      },
      "outputs": [
        {
          "output_type": "display_data",
          "data": {
            "text/plain": [
              "<IPython.core.display.Javascript object>"
            ],
            "application/javascript": [
              "\n",
              "    async function download(id, filename, size) {\n",
              "      if (!google.colab.kernel.accessAllowed) {\n",
              "        return;\n",
              "      }\n",
              "      const div = document.createElement('div');\n",
              "      const label = document.createElement('label');\n",
              "      label.textContent = `Downloading \"${filename}\": `;\n",
              "      div.appendChild(label);\n",
              "      const progress = document.createElement('progress');\n",
              "      progress.max = size;\n",
              "      div.appendChild(progress);\n",
              "      document.body.appendChild(div);\n",
              "\n",
              "      const buffers = [];\n",
              "      let downloaded = 0;\n",
              "\n",
              "      const channel = await google.colab.kernel.comms.open(id);\n",
              "      // Send a message to notify the kernel that we're ready.\n",
              "      channel.send({})\n",
              "\n",
              "      for await (const message of channel.messages) {\n",
              "        // Send a message to notify the kernel that we're ready.\n",
              "        channel.send({})\n",
              "        if (message.buffers) {\n",
              "          for (const buffer of message.buffers) {\n",
              "            buffers.push(buffer);\n",
              "            downloaded += buffer.byteLength;\n",
              "            progress.value = downloaded;\n",
              "          }\n",
              "        }\n",
              "      }\n",
              "      const blob = new Blob(buffers, {type: 'application/binary'});\n",
              "      const a = document.createElement('a');\n",
              "      a.href = window.URL.createObjectURL(blob);\n",
              "      a.download = filename;\n",
              "      div.appendChild(a);\n",
              "      a.click();\n",
              "      div.remove();\n",
              "    }\n",
              "  "
            ]
          },
          "metadata": {}
        },
        {
          "output_type": "display_data",
          "data": {
            "text/plain": [
              "<IPython.core.display.Javascript object>"
            ],
            "application/javascript": [
              "download(\"download_36634068-0e20-410a-94b2-74787745b074\", \"best.pt\", 42206253)"
            ]
          },
          "metadata": {}
        }
      ],
      "source": [
        "files.download('/content/yolov5/runs/train/2022_05_16_2/weights/best.pt')"
      ]
    },
    {
      "cell_type": "code",
      "execution_count": null,
      "metadata": {
        "id": "TQQ-ZJApwKCZ"
      },
      "outputs": [],
      "source": [
        "from IPython.display import Image\n",
        "import os\n",
        "\n",
        "#val_img_path = '/content/dataset/test/images/IMG_4891_JPG.rf.7c8433fc2b89a3fad2394ca199c5653f.jpg'\n",
        "val_img_path = '/content/dataset/test/images/000045_JPG.rf.1302f15cbed781a2e0cb23bf21dd63a9.jpg'\n",
        "#val_img_path = '/content/dataset/test/images/000025_jpg.rf.7850f7392bbe379b41da3c60321e6d0c.jpg'\n",
        "#!python detect.py --weights /content/yolov5/runs/train/Yolo_model_try32//weights/best.pt --img 640 --conf 0.5 --source \"{val_img_path}\"\n",
        "!python detect.py --weights /content/dataset/valid/images/000000_JPG.rf.7881711e6155bcb9e32454a287910877.jpg--img 416 --conf 0.5 --source \"{val_img_path}\"\n",
        "Image(os.path.join('/content/yolov5/inference/output', os.path.basename(val_img_path)))"
      ]
    },
    {
      "cell_type": "code",
      "execution_count": null,
      "metadata": {
        "id": "w7QmtbvoDnH-"
      },
      "outputs": [],
      "source": [
        "!python train.py --img 416 --batch 16 --epochs 100 --data /content/dataset/data.yaml --cfg ./models/yolov5m.yaml --weights yolov5l.pt --name modelL_100"
      ]
    },
    {
      "cell_type": "code",
      "source": [
        "##epoch100_batch16_modelL\n",
        "%load_ext tensorboard\n",
        "%tensorboard --logdir /content/yolov5/runs/train/modelL_100"
      ],
      "metadata": {
        "id": "R1hxQj9vPY0D"
      },
      "execution_count": null,
      "outputs": []
    },
    {
      "cell_type": "code",
      "source": [
        "files.download('/content/yolov5/runs/train/modelL_100/weights/best.pt')"
      ],
      "metadata": {
        "colab": {
          "base_uri": "https://localhost:8080/",
          "height": 17
        },
        "id": "v3f-oRGfaJCB",
        "outputId": "0af99f03-edec-474c-a5aa-5bd5d417ee77"
      },
      "execution_count": null,
      "outputs": [
        {
          "output_type": "display_data",
          "data": {
            "text/plain": [
              "<IPython.core.display.Javascript object>"
            ],
            "application/javascript": [
              "\n",
              "    async function download(id, filename, size) {\n",
              "      if (!google.colab.kernel.accessAllowed) {\n",
              "        return;\n",
              "      }\n",
              "      const div = document.createElement('div');\n",
              "      const label = document.createElement('label');\n",
              "      label.textContent = `Downloading \"${filename}\": `;\n",
              "      div.appendChild(label);\n",
              "      const progress = document.createElement('progress');\n",
              "      progress.max = size;\n",
              "      div.appendChild(progress);\n",
              "      document.body.appendChild(div);\n",
              "\n",
              "      const buffers = [];\n",
              "      let downloaded = 0;\n",
              "\n",
              "      const channel = await google.colab.kernel.comms.open(id);\n",
              "      // Send a message to notify the kernel that we're ready.\n",
              "      channel.send({})\n",
              "\n",
              "      for await (const message of channel.messages) {\n",
              "        // Send a message to notify the kernel that we're ready.\n",
              "        channel.send({})\n",
              "        if (message.buffers) {\n",
              "          for (const buffer of message.buffers) {\n",
              "            buffers.push(buffer);\n",
              "            downloaded += buffer.byteLength;\n",
              "            progress.value = downloaded;\n",
              "          }\n",
              "        }\n",
              "      }\n",
              "      const blob = new Blob(buffers, {type: 'application/binary'});\n",
              "      const a = document.createElement('a');\n",
              "      a.href = window.URL.createObjectURL(blob);\n",
              "      a.download = filename;\n",
              "      div.appendChild(a);\n",
              "      a.click();\n",
              "      div.remove();\n",
              "    }\n",
              "  "
            ]
          },
          "metadata": {}
        },
        {
          "output_type": "display_data",
          "data": {
            "text/plain": [
              "<IPython.core.display.Javascript object>"
            ],
            "application/javascript": [
              "download(\"download_4f86bdd6-e696-41a5-9d84-89d9258e9f53\", \"best.pt\", 42206253)"
            ]
          },
          "metadata": {}
        }
      ]
    },
    {
      "cell_type": "code",
      "source": [
        "%cd /content/yolov5/\n",
        "!python train.py --img 416 --batch 8 --epochs 100 --data /content/dataset/data.yaml --cfg ./models/yolov5m.yaml --weights yolov5x.pt --name modelx_100_8"
      ],
      "metadata": {
        "id": "h9Bf93w2eU3E"
      },
      "execution_count": null,
      "outputs": []
    },
    {
      "cell_type": "code",
      "source": [
        "%load_ext tensorboard\n",
        "%tensorboard --logdir /content/yolov5/runs/train/modelx_50_8"
      ],
      "metadata": {
        "id": "HTZI_6jGeeLi"
      },
      "execution_count": null,
      "outputs": []
    },
    {
      "cell_type": "code",
      "source": [
        "%load_ext tensorboard\n",
        "%tensorboard --logdir /content/yolov5/runs/train/modelx_100_8"
      ],
      "metadata": {
        "id": "s8poz1J3wPxf"
      },
      "execution_count": null,
      "outputs": []
    },
    {
      "cell_type": "code",
      "source": [
        "%cd /content/yolov5/\n",
        "!python train.py --img 416 --batch 8 --epochs 100 --data /content/dataset/data.yaml --cfg ./models/yolov5m.yaml --weights yolov5l.pt --name modell_100_8"
      ],
      "metadata": {
        "id": "e9WJJ52iyYxu"
      },
      "execution_count": null,
      "outputs": []
    },
    {
      "cell_type": "code",
      "source": [
        "%load_ext tensorboard\n",
        "%tensorboard --logdir /content/yolov5/runs/train/modell_100_8"
      ],
      "metadata": {
        "id": "QVZnnNYJ8Y27"
      },
      "execution_count": null,
      "outputs": []
    },
    {
      "cell_type": "code",
      "source": [
        "%cd /content/yolov5/\n",
        "!python train.py --img 416 --batch 16 --epochs 50 --data /content/dataset/data.yaml --cfg ./models/yolov5m.yaml --weights yolov5x.pt --name modelx_50_16"
      ],
      "metadata": {
        "id": "zIFhMaskafAL"
      },
      "execution_count": null,
      "outputs": []
    },
    {
      "cell_type": "code",
      "source": [
        "%load_ext tensorboard\n",
        "%tensorboard --logdir /content/yolov5/runs/train/modell_50_8"
      ],
      "metadata": {
        "id": "nitFunld8YBm"
      },
      "execution_count": null,
      "outputs": []
    },
    {
      "cell_type": "code",
      "source": [
        "%load_ext tensorboard\n",
        "%tensorboard --logdir /content/yolov5/runs/train/modelx_50_162"
      ],
      "metadata": {
        "id": "xac76s288gkk"
      },
      "execution_count": null,
      "outputs": []
    },
    {
      "cell_type": "code",
      "source": [
        "%cd /content/yolov5/\n",
        "!python train.py --img 416 --batch 16 --epochs 100 --data /content/dataset/data.yaml --cfg ./models/yolov5m.yaml --weights yolov5x.pt --name modelx_100_16"
      ],
      "metadata": {
        "id": "QL6S1y3DpsXl"
      },
      "execution_count": null,
      "outputs": []
    },
    {
      "cell_type": "code",
      "source": [
        "%load_ext tensorboard\n",
        "%tensorboard --logdir /content/yolov5/runs/train/modelx_100_16"
      ],
      "metadata": {
        "id": "lsMwSDSMq_Fd"
      },
      "execution_count": null,
      "outputs": []
    },
    {
      "cell_type": "code",
      "source": [
        "%cd /content/yolov5/\n",
        "!python train.py --img 416 --batch 16 --epochs 50 --data /content/dataset/data.yaml --cfg ./models/yolov5m.yaml --weights yolov5m.pt --name practice_model"
      ],
      "metadata": {
        "id": "nFDQ2OT8rErP"
      },
      "execution_count": null,
      "outputs": []
    },
    {
      "cell_type": "code",
      "source": [
        "%load_ext tensorboard\n",
        "%tensorboard --logdir /content/yolov5/runs/train/practice_model"
      ],
      "metadata": {
        "id": "Ooi13HwBBTv5"
      },
      "execution_count": null,
      "outputs": []
    }
  ],
  "metadata": {
    "colab": {
      "collapsed_sections": [],
      "machine_shape": "hm",
      "name": "create_YOLOv5_model.ipynb",
      "provenance": []
    },
    "kernelspec": {
      "display_name": "Python 3",
      "name": "python3"
    },
    "gpuClass": "standard"
  },
  "nbformat": 4,
  "nbformat_minor": 0
}